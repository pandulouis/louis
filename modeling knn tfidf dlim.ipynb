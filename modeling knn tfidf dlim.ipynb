{
 "cells": [
  {
   "cell_type": "code",
   "execution_count": 1,
   "metadata": {},
   "outputs": [],
   "source": [
    "import pandas as pd\n",
    "import numpy as np\n",
    "from sklearn import preprocessing\n",
    "from sklearn.preprocessing import MinMaxScaler\n",
    "from sklearn.feature_extraction.text import TfidfVectorizer\n",
    "from sklearn.model_selection import RandomizedSearchCV\n",
    "from sklearn.model_selection import train_test_split\n",
    "from sklearn.neighbors import KNeighborsRegressor\n",
    "from sklearn.ensemble import RandomForestRegressor\n",
    "from sklearn.neural_network import MLPRegressor\n",
    "from sklearn.metrics import mean_absolute_error\n",
    "from sklearn.metrics import r2_score\n",
    "from scipy.stats import pearsonr\n",
    "from sklearn.metrics import mean_squared_error\n",
    "from sklearn.feature_selection import SelectFromModel\n",
    "import matplotlib.pyplot as plt\n",
    "import seaborn as sns"
   ]
  },
  {
   "attachments": {},
   "cell_type": "markdown",
   "metadata": {},
   "source": [
    "Compiling complete dataframe"
   ]
  },
  {
   "cell_type": "code",
   "execution_count": 2,
   "metadata": {},
   "outputs": [],
   "source": [
    "df_knn = pd.read_csv(\"df_dlim_tfidf.csv\")"
   ]
  },
  {
   "cell_type": "code",
   "execution_count": 3,
   "metadata": {},
   "outputs": [
    {
     "data": {
      "text/html": [
       "<div>\n",
       "<style scoped>\n",
       "    .dataframe tbody tr th:only-of-type {\n",
       "        vertical-align: middle;\n",
       "    }\n",
       "\n",
       "    .dataframe tbody tr th {\n",
       "        vertical-align: top;\n",
       "    }\n",
       "\n",
       "    .dataframe thead th {\n",
       "        text-align: right;\n",
       "    }\n",
       "</style>\n",
       "<table border=\"1\" class=\"dataframe\">\n",
       "  <thead>\n",
       "    <tr style=\"text-align: right;\">\n",
       "      <th></th>\n",
       "      <th>index</th>\n",
       "      <th>tfidf_0</th>\n",
       "      <th>tfidf_1</th>\n",
       "      <th>tfidf_2</th>\n",
       "      <th>tfidf_3</th>\n",
       "      <th>tfidf_4</th>\n",
       "      <th>tfidf_5</th>\n",
       "      <th>tfidf_6</th>\n",
       "      <th>tfidf_7</th>\n",
       "      <th>tfidf_8</th>\n",
       "      <th>...</th>\n",
       "      <th>sweet</th>\n",
       "      <th>tar</th>\n",
       "      <th>tea</th>\n",
       "      <th>tobacco</th>\n",
       "      <th>tree</th>\n",
       "      <th>tropical</th>\n",
       "      <th>vanilla</th>\n",
       "      <th>violet</th>\n",
       "      <th>woody</th>\n",
       "      <th>X..D-Limonene</th>\n",
       "    </tr>\n",
       "  </thead>\n",
       "  <tbody>\n",
       "    <tr>\n",
       "      <th>0</th>\n",
       "      <td>0</td>\n",
       "      <td>0.0</td>\n",
       "      <td>0.21444</td>\n",
       "      <td>0.0</td>\n",
       "      <td>0.0</td>\n",
       "      <td>0.0</td>\n",
       "      <td>0.000000</td>\n",
       "      <td>0.0</td>\n",
       "      <td>0.0</td>\n",
       "      <td>0.000000</td>\n",
       "      <td>...</td>\n",
       "      <td>0</td>\n",
       "      <td>0</td>\n",
       "      <td>0</td>\n",
       "      <td>0</td>\n",
       "      <td>0</td>\n",
       "      <td>0</td>\n",
       "      <td>0</td>\n",
       "      <td>0</td>\n",
       "      <td>0</td>\n",
       "      <td>0.341772</td>\n",
       "    </tr>\n",
       "    <tr>\n",
       "      <th>1</th>\n",
       "      <td>1</td>\n",
       "      <td>0.0</td>\n",
       "      <td>0.00000</td>\n",
       "      <td>0.0</td>\n",
       "      <td>0.0</td>\n",
       "      <td>0.0</td>\n",
       "      <td>0.000000</td>\n",
       "      <td>0.0</td>\n",
       "      <td>0.0</td>\n",
       "      <td>0.000000</td>\n",
       "      <td>...</td>\n",
       "      <td>0</td>\n",
       "      <td>0</td>\n",
       "      <td>0</td>\n",
       "      <td>0</td>\n",
       "      <td>0</td>\n",
       "      <td>0</td>\n",
       "      <td>1</td>\n",
       "      <td>0</td>\n",
       "      <td>0</td>\n",
       "      <td>0.341772</td>\n",
       "    </tr>\n",
       "    <tr>\n",
       "      <th>2</th>\n",
       "      <td>2</td>\n",
       "      <td>0.0</td>\n",
       "      <td>0.00000</td>\n",
       "      <td>0.0</td>\n",
       "      <td>0.0</td>\n",
       "      <td>0.0</td>\n",
       "      <td>0.000000</td>\n",
       "      <td>0.0</td>\n",
       "      <td>0.0</td>\n",
       "      <td>0.324705</td>\n",
       "      <td>...</td>\n",
       "      <td>1</td>\n",
       "      <td>0</td>\n",
       "      <td>0</td>\n",
       "      <td>0</td>\n",
       "      <td>0</td>\n",
       "      <td>0</td>\n",
       "      <td>1</td>\n",
       "      <td>0</td>\n",
       "      <td>0</td>\n",
       "      <td>0.341772</td>\n",
       "    </tr>\n",
       "    <tr>\n",
       "      <th>3</th>\n",
       "      <td>2</td>\n",
       "      <td>0.0</td>\n",
       "      <td>0.00000</td>\n",
       "      <td>0.0</td>\n",
       "      <td>0.0</td>\n",
       "      <td>0.0</td>\n",
       "      <td>0.000000</td>\n",
       "      <td>0.0</td>\n",
       "      <td>0.0</td>\n",
       "      <td>0.324705</td>\n",
       "      <td>...</td>\n",
       "      <td>1</td>\n",
       "      <td>0</td>\n",
       "      <td>0</td>\n",
       "      <td>0</td>\n",
       "      <td>0</td>\n",
       "      <td>0</td>\n",
       "      <td>1</td>\n",
       "      <td>0</td>\n",
       "      <td>0</td>\n",
       "      <td>0.341772</td>\n",
       "    </tr>\n",
       "    <tr>\n",
       "      <th>4</th>\n",
       "      <td>3</td>\n",
       "      <td>0.0</td>\n",
       "      <td>0.00000</td>\n",
       "      <td>0.0</td>\n",
       "      <td>0.0</td>\n",
       "      <td>0.0</td>\n",
       "      <td>0.145484</td>\n",
       "      <td>0.0</td>\n",
       "      <td>0.0</td>\n",
       "      <td>0.000000</td>\n",
       "      <td>...</td>\n",
       "      <td>0</td>\n",
       "      <td>1</td>\n",
       "      <td>0</td>\n",
       "      <td>0</td>\n",
       "      <td>0</td>\n",
       "      <td>0</td>\n",
       "      <td>0</td>\n",
       "      <td>0</td>\n",
       "      <td>0</td>\n",
       "      <td>0.341772</td>\n",
       "    </tr>\n",
       "    <tr>\n",
       "      <th>...</th>\n",
       "      <td>...</td>\n",
       "      <td>...</td>\n",
       "      <td>...</td>\n",
       "      <td>...</td>\n",
       "      <td>...</td>\n",
       "      <td>...</td>\n",
       "      <td>...</td>\n",
       "      <td>...</td>\n",
       "      <td>...</td>\n",
       "      <td>...</td>\n",
       "      <td>...</td>\n",
       "      <td>...</td>\n",
       "      <td>...</td>\n",
       "      <td>...</td>\n",
       "      <td>...</td>\n",
       "      <td>...</td>\n",
       "      <td>...</td>\n",
       "      <td>...</td>\n",
       "      <td>...</td>\n",
       "      <td>...</td>\n",
       "      <td>...</td>\n",
       "    </tr>\n",
       "    <tr>\n",
       "      <th>74995</th>\n",
       "      <td>42974</td>\n",
       "      <td>0.0</td>\n",
       "      <td>0.00000</td>\n",
       "      <td>0.0</td>\n",
       "      <td>0.0</td>\n",
       "      <td>0.0</td>\n",
       "      <td>0.000000</td>\n",
       "      <td>0.0</td>\n",
       "      <td>0.0</td>\n",
       "      <td>0.000000</td>\n",
       "      <td>...</td>\n",
       "      <td>0</td>\n",
       "      <td>0</td>\n",
       "      <td>0</td>\n",
       "      <td>0</td>\n",
       "      <td>0</td>\n",
       "      <td>0</td>\n",
       "      <td>0</td>\n",
       "      <td>0</td>\n",
       "      <td>0</td>\n",
       "      <td>0.240506</td>\n",
       "    </tr>\n",
       "    <tr>\n",
       "      <th>74996</th>\n",
       "      <td>42975</td>\n",
       "      <td>0.0</td>\n",
       "      <td>0.00000</td>\n",
       "      <td>0.0</td>\n",
       "      <td>0.0</td>\n",
       "      <td>0.0</td>\n",
       "      <td>0.000000</td>\n",
       "      <td>0.0</td>\n",
       "      <td>0.0</td>\n",
       "      <td>0.000000</td>\n",
       "      <td>...</td>\n",
       "      <td>0</td>\n",
       "      <td>0</td>\n",
       "      <td>0</td>\n",
       "      <td>0</td>\n",
       "      <td>0</td>\n",
       "      <td>0</td>\n",
       "      <td>0</td>\n",
       "      <td>0</td>\n",
       "      <td>0</td>\n",
       "      <td>0.240506</td>\n",
       "    </tr>\n",
       "    <tr>\n",
       "      <th>74997</th>\n",
       "      <td>42976</td>\n",
       "      <td>0.0</td>\n",
       "      <td>0.00000</td>\n",
       "      <td>0.0</td>\n",
       "      <td>0.0</td>\n",
       "      <td>0.0</td>\n",
       "      <td>0.000000</td>\n",
       "      <td>0.0</td>\n",
       "      <td>0.0</td>\n",
       "      <td>0.000000</td>\n",
       "      <td>...</td>\n",
       "      <td>1</td>\n",
       "      <td>1</td>\n",
       "      <td>1</td>\n",
       "      <td>1</td>\n",
       "      <td>1</td>\n",
       "      <td>1</td>\n",
       "      <td>1</td>\n",
       "      <td>1</td>\n",
       "      <td>1</td>\n",
       "      <td>0.240506</td>\n",
       "    </tr>\n",
       "    <tr>\n",
       "      <th>74998</th>\n",
       "      <td>42976</td>\n",
       "      <td>0.0</td>\n",
       "      <td>0.00000</td>\n",
       "      <td>0.0</td>\n",
       "      <td>0.0</td>\n",
       "      <td>0.0</td>\n",
       "      <td>0.000000</td>\n",
       "      <td>0.0</td>\n",
       "      <td>0.0</td>\n",
       "      <td>0.000000</td>\n",
       "      <td>...</td>\n",
       "      <td>1</td>\n",
       "      <td>1</td>\n",
       "      <td>1</td>\n",
       "      <td>1</td>\n",
       "      <td>1</td>\n",
       "      <td>1</td>\n",
       "      <td>1</td>\n",
       "      <td>1</td>\n",
       "      <td>1</td>\n",
       "      <td>0.240506</td>\n",
       "    </tr>\n",
       "    <tr>\n",
       "      <th>74999</th>\n",
       "      <td>42976</td>\n",
       "      <td>0.0</td>\n",
       "      <td>0.00000</td>\n",
       "      <td>0.0</td>\n",
       "      <td>0.0</td>\n",
       "      <td>0.0</td>\n",
       "      <td>0.000000</td>\n",
       "      <td>0.0</td>\n",
       "      <td>0.0</td>\n",
       "      <td>0.000000</td>\n",
       "      <td>...</td>\n",
       "      <td>1</td>\n",
       "      <td>1</td>\n",
       "      <td>1</td>\n",
       "      <td>1</td>\n",
       "      <td>1</td>\n",
       "      <td>1</td>\n",
       "      <td>1</td>\n",
       "      <td>1</td>\n",
       "      <td>1</td>\n",
       "      <td>0.240506</td>\n",
       "    </tr>\n",
       "  </tbody>\n",
       "</table>\n",
       "<p>75000 rows × 471 columns</p>\n",
       "</div>"
      ],
      "text/plain": [
       "       index  tfidf_0  tfidf_1  tfidf_2  tfidf_3  tfidf_4   tfidf_5  tfidf_6  \\\n",
       "0          0      0.0  0.21444      0.0      0.0      0.0  0.000000      0.0   \n",
       "1          1      0.0  0.00000      0.0      0.0      0.0  0.000000      0.0   \n",
       "2          2      0.0  0.00000      0.0      0.0      0.0  0.000000      0.0   \n",
       "3          2      0.0  0.00000      0.0      0.0      0.0  0.000000      0.0   \n",
       "4          3      0.0  0.00000      0.0      0.0      0.0  0.145484      0.0   \n",
       "...      ...      ...      ...      ...      ...      ...       ...      ...   \n",
       "74995  42974      0.0  0.00000      0.0      0.0      0.0  0.000000      0.0   \n",
       "74996  42975      0.0  0.00000      0.0      0.0      0.0  0.000000      0.0   \n",
       "74997  42976      0.0  0.00000      0.0      0.0      0.0  0.000000      0.0   \n",
       "74998  42976      0.0  0.00000      0.0      0.0      0.0  0.000000      0.0   \n",
       "74999  42976      0.0  0.00000      0.0      0.0      0.0  0.000000      0.0   \n",
       "\n",
       "       tfidf_7   tfidf_8  ...  sweet  tar  tea  tobacco  tree  tropical  \\\n",
       "0          0.0  0.000000  ...      0    0    0        0     0         0   \n",
       "1          0.0  0.000000  ...      0    0    0        0     0         0   \n",
       "2          0.0  0.324705  ...      1    0    0        0     0         0   \n",
       "3          0.0  0.324705  ...      1    0    0        0     0         0   \n",
       "4          0.0  0.000000  ...      0    1    0        0     0         0   \n",
       "...        ...       ...  ...    ...  ...  ...      ...   ...       ...   \n",
       "74995      0.0  0.000000  ...      0    0    0        0     0         0   \n",
       "74996      0.0  0.000000  ...      0    0    0        0     0         0   \n",
       "74997      0.0  0.000000  ...      1    1    1        1     1         1   \n",
       "74998      0.0  0.000000  ...      1    1    1        1     1         1   \n",
       "74999      0.0  0.000000  ...      1    1    1        1     1         1   \n",
       "\n",
       "       vanilla  violet  woody  X..D-Limonene  \n",
       "0            0       0      0       0.341772  \n",
       "1            1       0      0       0.341772  \n",
       "2            1       0      0       0.341772  \n",
       "3            1       0      0       0.341772  \n",
       "4            0       0      0       0.341772  \n",
       "...        ...     ...    ...            ...  \n",
       "74995        0       0      0       0.240506  \n",
       "74996        0       0      0       0.240506  \n",
       "74997        1       1      1       0.240506  \n",
       "74998        1       1      1       0.240506  \n",
       "74999        1       1      1       0.240506  \n",
       "\n",
       "[75000 rows x 471 columns]"
      ]
     },
     "execution_count": 3,
     "metadata": {},
     "output_type": "execute_result"
    }
   ],
   "source": [
    "df_knn"
   ]
  },
  {
   "attachments": {},
   "cell_type": "markdown",
   "metadata": {},
   "source": [
    "Splitting dependent and independent variables"
   ]
  },
  {
   "cell_type": "code",
   "execution_count": 4,
   "metadata": {},
   "outputs": [],
   "source": [
    "X = df_knn.drop(['X..D-Limonene', 'index'], axis = 1)\n",
    "y = df_knn[['X..D-Limonene']]"
   ]
  },
  {
   "attachments": {},
   "cell_type": "markdown",
   "metadata": {},
   "source": [
    "Plotting histograms on target variable"
   ]
  },
  {
   "cell_type": "code",
   "execution_count": 5,
   "metadata": {},
   "outputs": [
    {
     "data": {
      "text/plain": [
       "array([[0.34177215],\n",
       "       [0.34177215],\n",
       "       [0.34177215],\n",
       "       ...,\n",
       "       [0.24050633],\n",
       "       [0.24050633],\n",
       "       [0.24050633]])"
      ]
     },
     "execution_count": 5,
     "metadata": {},
     "output_type": "execute_result"
    }
   ],
   "source": [
    "y_array = y.to_numpy()\n",
    "y_array"
   ]
  },
  {
   "cell_type": "code",
   "execution_count": 6,
   "metadata": {},
   "outputs": [
    {
     "data": {
      "text/plain": [
       "<AxesSubplot:ylabel='Count'>"
      ]
     },
     "execution_count": 6,
     "metadata": {},
     "output_type": "execute_result"
    },
    {
     "data": {
      "image/png": "[encoded data removed]",
      "text/plain": [
       "<Figure size 432x288 with 1 Axes>"
      ]
     },
     "metadata": {
      "needs_background": "light"
     },
     "output_type": "display_data"
    }
   ],
   "source": [
    "sns.histplot(y, bins = 10)"
   ]
  },
  {
   "attachments": {},
   "cell_type": "markdown",
   "metadata": {},
   "source": [
    "Train test split"
   ]
  },
  {
   "cell_type": "code",
   "execution_count": 7,
   "metadata": {},
   "outputs": [],
   "source": [
    "X_train, X_test, y_train, y_test = train_test_split(X, y, random_state=1, test_size=0.2)"
   ]
  },
  {
   "cell_type": "code",
   "execution_count": 8,
   "metadata": {},
   "outputs": [],
   "source": [
    "X_train1, X_val, y_train1, y_val = train_test_split(X_train, y_train, random_state=1, test_size=0.25)"
   ]
  },
  {
   "attachments": {},
   "cell_type": "markdown",
   "metadata": {},
   "source": [
    "kNN modeling (before Feature selection and Hyperparameter Tuning)"
   ]
  },
  {
   "cell_type": "code",
   "execution_count": 9,
   "metadata": {},
   "outputs": [],
   "source": [
    "knreg = KNeighborsRegressor()\n",
    "knreg.fit(X_train1, y_train1)\n",
    "y_pred_knreg = knreg.predict(X_val)\n",
    "y_pred_knreg_r2 = knreg.predict(X_train1)"
   ]
  },
  {
   "cell_type": "code",
   "execution_count": 10,
   "metadata": {},
   "outputs": [
    {
     "data": {
      "text/plain": [
       "0.1033840099071112"
      ]
     },
     "execution_count": 10,
     "metadata": {},
     "output_type": "execute_result"
    }
   ],
   "source": [
    "mean_absolute_error(y_val, y_pred_knreg)"
   ]
  },
  {
   "cell_type": "code",
   "execution_count": 11,
   "metadata": {},
   "outputs": [
    {
     "data": {
      "text/plain": [
       "0.7878271592742201"
      ]
     },
     "execution_count": 11,
     "metadata": {},
     "output_type": "execute_result"
    }
   ],
   "source": [
    "#train\n",
    "r2_score(y_train1, y_pred_knreg_r2)"
   ]
  },
  {
   "cell_type": "code",
   "execution_count": 12,
   "metadata": {},
   "outputs": [
    {
     "data": {
      "text/plain": [
       "0.6350602002386219"
      ]
     },
     "execution_count": 12,
     "metadata": {},
     "output_type": "execute_result"
    }
   ],
   "source": [
    "#val\n",
    "r2_score(y_val, y_pred_knreg)"
   ]
  },
  {
   "attachments": {},
   "cell_type": "markdown",
   "metadata": {},
   "source": [
    "Feature Selection"
   ]
  },
  {
   "cell_type": "code",
   "execution_count": 13,
   "metadata": {},
   "outputs": [],
   "source": [
    "rfreg = RandomForestRegressor()"
   ]
  },
  {
   "cell_type": "code",
   "execution_count": 14,
   "metadata": {},
   "outputs": [
    {
     "name": "stderr",
     "output_type": "stream",
     "text": [
      "/Users/andalanputra/opt/anaconda3/lib/python3.9/site-packages/sklearn/feature_selection/_from_model.py:357: DataConversionWarning: A column-vector y was passed when a 1d array was expected. Please change the shape of y to (n_samples,), for example using ravel().\n",
      "  self.estimator_.fit(X, y, **fit_params)\n"
     ]
    }
   ],
   "source": [
    "selector = SelectFromModel(rfreg).fit(X_train1, y_train1)"
   ]
  },
  {
   "cell_type": "code",
   "execution_count": 15,
   "metadata": {},
   "outputs": [
    {
     "data": {
      "text/plain": [
       "array([1.13375184e-03, 1.08948529e-03, 8.06486257e-04, 1.09646574e-03,\n",
       "       8.86342999e-04, 2.69238732e-03, 5.94551604e-03, 3.03220100e-03,\n",
       "       2.80734280e-04, 2.78958093e-03, 8.14785818e-04, 3.92301192e-03,\n",
       "       9.40439131e-04, 6.46199193e-04, 3.25902029e-04, 8.56579223e-04,\n",
       "       3.30317464e-03, 1.55073951e-03, 5.31612842e-04, 1.00389622e-03,\n",
       "       1.94054306e-03, 1.35390120e-03, 8.70977008e-04, 9.36490525e-04,\n",
       "       1.24834184e-03, 4.66123003e-04, 1.18559207e-03, 1.53606515e-03,\n",
       "       9.75782815e-04, 5.23794217e-04, 4.84745855e-03, 8.54792153e-04,\n",
       "       1.56228511e-03, 5.10215964e-04, 1.88974137e-03, 1.06407245e-03,\n",
       "       8.76465132e-04, 4.36702124e-03, 2.38210688e-04, 2.20818685e-03,\n",
       "       2.61469124e-04, 1.50332272e-03, 6.12119344e-04, 5.75508630e-03,\n",
       "       1.16666319e-03, 9.98063858e-04, 1.45948741e-03, 7.88502437e-04,\n",
       "       1.54298224e-03, 1.15011912e-03, 1.11566909e-03, 4.19010462e-04,\n",
       "       1.14318846e-03, 2.39181316e-03, 1.02529160e-03, 3.55829604e-04,\n",
       "       1.02223946e-03, 6.69900500e-04, 6.75096781e-04, 5.86803889e-04,\n",
       "       1.66284019e-04, 1.37663886e-03, 1.02569170e-03, 1.06158097e-03,\n",
       "       1.15357056e-03, 6.22205714e-04, 3.97504716e-04, 5.50379158e-04,\n",
       "       7.44154859e-04, 8.03234905e-04, 2.32714832e-04, 1.68141722e-03,\n",
       "       3.19332467e-04, 3.57303716e-03, 3.48629943e-04, 1.13667693e-03,\n",
       "       9.53775668e-04, 4.66170757e-04, 3.40266207e-03, 9.45727493e-04,\n",
       "       9.91319590e-04, 1.50975729e-03, 4.33993442e-03, 1.34704559e-03,\n",
       "       8.23687789e-04, 8.68535914e-04, 1.55205755e-03, 3.27324731e-04,\n",
       "       9.95177047e-04, 3.13650356e-04, 4.06342289e-03, 6.40471810e-04,\n",
       "       2.56481409e-04, 2.86325108e-03, 4.77919323e-04, 1.98969093e-04,\n",
       "       1.23718204e-03, 1.25509206e-03, 1.92026517e-03, 1.12298225e-03,\n",
       "       1.71299624e-04, 1.28241461e-03, 9.25009558e-04, 1.80280917e-03,\n",
       "       1.39692792e-03, 9.22963063e-04, 1.85831522e-03, 2.30541712e-03,\n",
       "       1.73027745e-03, 9.50469105e-04, 2.31207856e-03, 6.38185007e-04,\n",
       "       1.22850755e-03, 1.58178589e-04, 1.05311559e-03, 9.35164248e-04,\n",
       "       2.15241762e-03, 1.32252361e-03, 1.31967442e-03, 4.06981680e-03,\n",
       "       9.59257422e-04, 5.63636016e-03, 7.83394780e-04, 1.46256553e-03,\n",
       "       2.30793024e-03, 1.01385509e-03, 2.16464363e-03, 1.32714432e-03,\n",
       "       3.01316953e-03, 1.48945274e-03, 1.32633316e-03, 8.58407452e-04,\n",
       "       1.13495883e-03, 6.08421249e-04, 3.44063361e-04, 2.46400595e-03,\n",
       "       9.41991137e-04, 4.18369258e-04, 5.45251702e-04, 1.45886460e-03,\n",
       "       5.30938433e-04, 6.90952225e-03, 1.55069845e-03, 1.12643339e-03,\n",
       "       2.93803861e-03, 1.03796868e-02, 2.00119901e-03, 1.05506392e-03,\n",
       "       7.43379869e-04, 9.57135504e-03, 3.76171329e-04, 1.19279558e-03,\n",
       "       9.85740771e-04, 3.10471754e-03, 1.06311616e-03, 2.75579180e-04,\n",
       "       5.04150831e-04, 1.13290270e-03, 4.25251357e-03, 1.35345872e-03,\n",
       "       5.83162404e-04, 1.10029537e-03, 2.76103941e-03, 1.12160210e-03,\n",
       "       9.16532064e-04, 1.42353999e-03, 1.67741228e-03, 2.94506110e-03,\n",
       "       1.19048662e-02, 8.90624682e-04, 1.74474737e-03, 2.70841213e-03,\n",
       "       4.48083184e-04, 3.35344639e-03, 4.37113907e-04, 2.91026447e-03,\n",
       "       9.39874360e-04, 6.93676498e-04, 4.89404131e-03, 3.25513743e-04,\n",
       "       1.79669317e-03, 1.40894582e-03, 8.10939422e-04, 6.69849169e-04,\n",
       "       1.11344669e-03, 6.40749455e-04, 6.48421866e-04, 6.44716147e-04,\n",
       "       8.80523049e-04, 1.44320282e-03, 1.47770226e-03, 2.84168667e-04,\n",
       "       7.91065323e-04, 1.89194368e-03, 1.12763404e-03, 6.05068728e-04,\n",
       "       6.62577489e-04, 9.09972809e-04, 8.65644268e-04, 6.64254468e-03,\n",
       "       2.35703316e-03, 8.95469527e-04, 7.23186812e-04, 2.35552524e-03,\n",
       "       4.51745835e-04, 1.70202419e-03, 1.46832125e-03, 5.48131079e-03,\n",
       "       1.24411273e-03, 1.15156263e-03, 5.60323975e-03, 2.18449280e-03,\n",
       "       1.17696660e-03, 3.77841997e-04, 5.89227940e-04, 1.20144380e-03,\n",
       "       2.13509190e-03, 1.28071775e-03, 7.34634842e-04, 8.65732674e-04,\n",
       "       1.28943036e-03, 1.14939914e-03, 1.37077057e-03, 9.05316410e-04,\n",
       "       1.12592003e-03, 5.73375377e-04, 8.25500906e-04, 6.14589511e-04,\n",
       "       4.99947322e-04, 7.25810175e-04, 2.51895959e-03, 2.48047375e-03,\n",
       "       3.89950935e-04, 6.75891937e-04, 4.86355315e-04, 4.75616406e-04,\n",
       "       2.51327725e-03, 8.21607989e-04, 3.64533478e-04, 6.00332472e-03,\n",
       "       2.42012340e-03, 2.46632473e-04, 4.02995483e-04, 4.78925010e-04,\n",
       "       7.52864588e-04, 5.68160002e-03, 1.86388381e-03, 1.37586197e-03,\n",
       "       3.00217220e-04, 1.53771475e-03, 5.13964399e-05, 8.72642099e-04,\n",
       "       1.38678868e-03, 7.09674368e-03, 7.67560780e-04, 1.27680704e-03,\n",
       "       5.95558038e-04, 4.91285879e-04, 2.35889818e-03, 7.10774467e-04,\n",
       "       8.27227460e-04, 9.54494105e-04, 1.03080893e-03, 1.66684853e-03,\n",
       "       2.90504558e-03, 1.14899773e-03, 5.83019990e-04, 1.67284231e-03,\n",
       "       3.68970164e-04, 9.60101828e-04, 1.45298788e-03, 2.13128667e-03,\n",
       "       1.31983246e-02, 2.07203829e-03, 6.77888586e-04, 1.06753677e-03,\n",
       "       3.13258412e-04, 2.45711133e-03, 1.78164287e-03, 1.45346890e-03,\n",
       "       4.50920521e-04, 6.07102448e-03, 1.48152596e-03, 2.81297823e-03,\n",
       "       8.26037443e-04, 6.90491963e-03, 7.25276928e-04, 6.17484563e-04,\n",
       "       1.15095596e-03, 1.95768770e-03, 2.27192986e-04, 1.86738022e-03,\n",
       "       1.05393357e-03, 3.95070463e-04, 1.13274364e-03, 1.21974872e-03,\n",
       "       3.16347462e-04, 1.04147200e-03, 5.00122205e-04, 2.95454655e-04,\n",
       "       3.84062562e-04, 1.70745278e-03, 3.80617412e-04, 3.37107183e-03,\n",
       "       1.17461732e-03, 5.37220767e-04, 4.43303658e-04, 4.01991092e-04,\n",
       "       4.24541254e-04, 6.68150132e-03, 6.51522150e-04, 6.53999371e-04,\n",
       "       8.62613231e-03, 3.64262145e-04, 2.90207647e-03, 1.77344597e-03,\n",
       "       1.19857052e-03, 7.20089686e-04, 7.62803233e-04, 2.19355583e-03,\n",
       "       1.56762997e-03, 1.22218487e-03, 7.36534875e-04, 2.47900148e-03,\n",
       "       5.08483289e-04, 1.63013607e-03, 1.47386257e-03, 6.12026652e-04,\n",
       "       6.99107720e-04, 1.78776293e-02, 2.79474272e-04, 3.32197151e-04,\n",
       "       6.52413824e-04, 3.35487983e-04, 5.69485744e-04, 2.31557289e-04,\n",
       "       2.22183845e-03, 3.07305511e-03, 3.28633531e-03, 1.38936869e-03,\n",
       "       2.08408424e-03, 1.05156141e-03, 4.12525003e-03, 2.12599074e-03,\n",
       "       8.52480139e-04, 9.45088432e-03, 2.02660781e-03, 5.76643770e-04,\n",
       "       1.05467157e-03, 1.76349823e-03, 8.55238627e-04, 1.81875182e-04,\n",
       "       4.76238582e-04, 1.19236414e-03, 1.98275014e-03, 2.81668825e-03,\n",
       "       8.16926217e-04, 6.70563807e-03, 7.08913239e-04, 2.57452089e-04,\n",
       "       1.95432635e-03, 3.04592847e-04, 3.09562340e-03, 6.93538571e-04,\n",
       "       1.94494304e-03, 4.69823413e-04, 4.48827550e-03, 1.66737754e-03,\n",
       "       7.23764619e-04, 1.71386236e-03, 6.76708557e-04, 1.58173470e-03,\n",
       "       9.50938646e-04, 1.55275675e-03, 1.46204918e-03, 2.87669743e-04,\n",
       "       2.14902566e-03, 5.17795405e-04, 2.92342949e-04, 6.83738162e-04,\n",
       "       1.62075828e-03, 9.11934569e-04, 3.37909765e-03, 4.31610174e-04,\n",
       "       3.76346929e-04, 5.75486761e-04, 1.98724933e-03, 1.33159211e-03,\n",
       "       3.72925541e-02, 2.39391477e-02, 6.89881282e-03, 2.26734155e-05,\n",
       "       5.68312087e-04, 1.74913349e-03, 6.49889607e-10, 3.39534714e-03,\n",
       "       3.70648540e-05, 1.31879385e-03, 2.17244126e-03, 3.38417038e-03,\n",
       "       3.11098744e-03, 1.79621763e-10, 4.42585922e-03, 2.04689463e-09,\n",
       "       1.02004413e-10, 2.79556860e-03, 2.18084333e-03, 4.16159331e-03,\n",
       "       5.37516496e-04, 3.61485896e-03, 4.80044656e-05, 3.06154576e-10,\n",
       "       6.46519083e-04, 6.03604775e-03, 1.19054299e-09, 2.42866100e-03,\n",
       "       1.53098543e-08, 0.00000000e+00, 2.47321270e-03, 3.45961728e-03,\n",
       "       4.50243146e-03, 1.49784188e-04, 5.59535285e-05, 3.04933413e-05,\n",
       "       3.98967463e-03, 1.66239703e-05, 8.72152081e-03, 2.59927947e-03,\n",
       "       3.11796621e-03, 1.14912253e-03, 1.74370551e-04, 9.41461457e-03,\n",
       "       2.31357429e-03, 1.47952284e-01, 6.84179019e-03, 7.96884262e-04,\n",
       "       4.16356896e-04, 4.92488661e-03, 6.55452445e-04, 2.03509080e-04,\n",
       "       5.30645953e-04, 1.07310930e-02, 1.62878399e-03, 7.69902420e-04,\n",
       "       2.54635489e-04, 2.83854128e-03, 5.42778017e-04, 5.82458527e-03,\n",
       "       3.84326560e-05, 3.86650649e-05, 7.93419367e-04, 1.87765166e-03,\n",
       "       2.50338640e-04, 2.21231493e-04, 3.16302693e-03, 2.48725102e-04,\n",
       "       1.41190413e-03, 5.33632604e-03, 1.75947270e-03, 6.69717699e-03,\n",
       "       3.36343034e-03, 8.47143209e-05, 2.55106085e-04, 4.09111024e-04,\n",
       "       3.50802233e-04, 1.60007344e-03, 1.76585127e-03, 7.21661595e-05,\n",
       "       1.97400664e-03])"
      ]
     },
     "execution_count": 15,
     "metadata": {},
     "output_type": "execute_result"
    }
   ],
   "source": [
    "selector.estimator_.feature_importances_"
   ]
  },
  {
   "cell_type": "code",
   "execution_count": 16,
   "metadata": {},
   "outputs": [
    {
     "data": {
      "text/plain": [
       "0.0021321961620469083"
      ]
     },
     "execution_count": 16,
     "metadata": {},
     "output_type": "execute_result"
    }
   ],
   "source": [
    "selector.threshold_"
   ]
  },
  {
   "cell_type": "code",
   "execution_count": 17,
   "metadata": {},
   "outputs": [],
   "source": [
    "mask = selector.get_support()"
   ]
  },
  {
   "cell_type": "code",
   "execution_count": 18,
   "metadata": {},
   "outputs": [
    {
     "data": {
      "text/plain": [
       "array([False, False, False, False, False,  True,  True,  True, False,\n",
       "        True, False,  True, False, False, False, False,  True, False,\n",
       "       False, False, False, False, False, False, False, False, False,\n",
       "       False, False, False,  True, False, False, False, False, False,\n",
       "       False,  True, False,  True, False, False, False,  True, False,\n",
       "       False, False, False, False, False, False, False, False,  True,\n",
       "       False, False, False, False, False, False, False, False, False,\n",
       "       False, False, False, False, False, False, False, False, False,\n",
       "       False,  True, False, False, False, False,  True, False, False,\n",
       "       False,  True, False, False, False, False, False, False, False,\n",
       "        True, False, False,  True, False, False, False, False, False,\n",
       "       False, False, False, False, False, False, False, False,  True,\n",
       "       False, False,  True, False, False, False, False, False,  True,\n",
       "       False, False,  True, False,  True, False, False,  True, False,\n",
       "        True, False,  True, False, False, False, False, False, False,\n",
       "        True, False, False, False, False, False,  True, False, False,\n",
       "        True,  True, False, False, False,  True, False, False, False,\n",
       "        True, False, False, False, False,  True, False, False, False,\n",
       "        True, False, False, False, False,  True,  True, False, False,\n",
       "        True, False,  True, False,  True, False, False,  True, False,\n",
       "       False, False, False, False, False, False, False, False, False,\n",
       "       False, False, False, False, False, False, False, False, False,\n",
       "       False,  True,  True, False, False,  True, False, False, False,\n",
       "        True, False, False,  True,  True, False, False, False, False,\n",
       "        True, False, False, False, False, False, False, False, False,\n",
       "       False, False, False, False, False,  True,  True, False, False,\n",
       "       False, False,  True, False, False,  True,  True, False, False,\n",
       "       False, False,  True, False, False, False, False, False, False,\n",
       "       False,  True, False, False, False, False,  True, False, False,\n",
       "       False, False, False,  True, False, False, False, False, False,\n",
       "       False, False,  True, False, False, False, False,  True, False,\n",
       "       False, False,  True, False,  True, False,  True, False, False,\n",
       "       False, False, False, False, False, False, False, False, False,\n",
       "       False, False, False, False, False, False,  True, False, False,\n",
       "       False, False, False,  True, False, False,  True, False,  True,\n",
       "       False, False, False, False,  True, False, False, False,  True,\n",
       "       False, False, False, False, False,  True, False, False, False,\n",
       "       False, False, False,  True,  True,  True, False, False, False,\n",
       "        True, False, False,  True, False, False, False, False, False,\n",
       "       False, False, False, False,  True, False,  True, False, False,\n",
       "       False, False,  True, False, False, False,  True, False, False,\n",
       "       False, False, False, False, False, False, False,  True, False,\n",
       "       False, False, False, False,  True, False, False, False, False,\n",
       "       False,  True,  True,  True, False, False, False, False,  True,\n",
       "       False, False,  True,  True,  True, False,  True, False, False,\n",
       "        True,  True,  True, False,  True, False, False, False,  True,\n",
       "       False,  True, False, False,  True,  True,  True, False, False,\n",
       "       False,  True, False,  True,  True,  True, False, False,  True,\n",
       "        True,  True,  True, False, False,  True, False, False, False,\n",
       "        True, False, False, False,  True, False,  True, False, False,\n",
       "       False, False, False, False,  True, False, False,  True, False,\n",
       "        True,  True, False, False, False, False, False, False, False,\n",
       "       False])"
      ]
     },
     "execution_count": 18,
     "metadata": {},
     "output_type": "execute_result"
    }
   ],
   "source": [
    "mask"
   ]
  },
  {
   "cell_type": "code",
   "execution_count": 19,
   "metadata": {},
   "outputs": [],
   "source": [
    "selected_features = X.columns[mask]"
   ]
  },
  {
   "cell_type": "code",
   "execution_count": 20,
   "metadata": {},
   "outputs": [
    {
     "data": {
      "text/html": [
       "<div>\n",
       "<style scoped>\n",
       "    .dataframe tbody tr th:only-of-type {\n",
       "        vertical-align: middle;\n",
       "    }\n",
       "\n",
       "    .dataframe tbody tr th {\n",
       "        vertical-align: top;\n",
       "    }\n",
       "\n",
       "    .dataframe thead th {\n",
       "        text-align: right;\n",
       "    }\n",
       "</style>\n",
       "<table border=\"1\" class=\"dataframe\">\n",
       "  <thead>\n",
       "    <tr style=\"text-align: right;\">\n",
       "      <th></th>\n",
       "      <th>tfidf_5</th>\n",
       "      <th>tfidf_6</th>\n",
       "      <th>tfidf_7</th>\n",
       "      <th>tfidf_9</th>\n",
       "      <th>tfidf_11</th>\n",
       "      <th>tfidf_16</th>\n",
       "      <th>tfidf_30</th>\n",
       "      <th>tfidf_37</th>\n",
       "      <th>tfidf_39</th>\n",
       "      <th>tfidf_43</th>\n",
       "      <th>...</th>\n",
       "      <th>diesel</th>\n",
       "      <th>earthy</th>\n",
       "      <th>grape</th>\n",
       "      <th>lemon</th>\n",
       "      <th>mint</th>\n",
       "      <th>orange</th>\n",
       "      <th>pungent</th>\n",
       "      <th>skunk</th>\n",
       "      <th>strawberry</th>\n",
       "      <th>sweet</th>\n",
       "    </tr>\n",
       "  </thead>\n",
       "  <tbody>\n",
       "    <tr>\n",
       "      <th>0</th>\n",
       "      <td>0.000000</td>\n",
       "      <td>0.0</td>\n",
       "      <td>0.0</td>\n",
       "      <td>0.0</td>\n",
       "      <td>0.0</td>\n",
       "      <td>0.0</td>\n",
       "      <td>0.0</td>\n",
       "      <td>0.14162</td>\n",
       "      <td>0.189796</td>\n",
       "      <td>0.000000</td>\n",
       "      <td>...</td>\n",
       "      <td>0</td>\n",
       "      <td>0</td>\n",
       "      <td>0</td>\n",
       "      <td>0</td>\n",
       "      <td>0</td>\n",
       "      <td>0</td>\n",
       "      <td>0</td>\n",
       "      <td>0</td>\n",
       "      <td>0</td>\n",
       "      <td>0</td>\n",
       "    </tr>\n",
       "    <tr>\n",
       "      <th>1</th>\n",
       "      <td>0.000000</td>\n",
       "      <td>0.0</td>\n",
       "      <td>0.0</td>\n",
       "      <td>0.0</td>\n",
       "      <td>0.0</td>\n",
       "      <td>0.0</td>\n",
       "      <td>0.0</td>\n",
       "      <td>0.00000</td>\n",
       "      <td>0.000000</td>\n",
       "      <td>0.000000</td>\n",
       "      <td>...</td>\n",
       "      <td>0</td>\n",
       "      <td>0</td>\n",
       "      <td>0</td>\n",
       "      <td>0</td>\n",
       "      <td>0</td>\n",
       "      <td>0</td>\n",
       "      <td>0</td>\n",
       "      <td>0</td>\n",
       "      <td>0</td>\n",
       "      <td>0</td>\n",
       "    </tr>\n",
       "    <tr>\n",
       "      <th>2</th>\n",
       "      <td>0.000000</td>\n",
       "      <td>0.0</td>\n",
       "      <td>0.0</td>\n",
       "      <td>0.0</td>\n",
       "      <td>0.0</td>\n",
       "      <td>0.0</td>\n",
       "      <td>0.0</td>\n",
       "      <td>0.00000</td>\n",
       "      <td>0.000000</td>\n",
       "      <td>0.198545</td>\n",
       "      <td>...</td>\n",
       "      <td>0</td>\n",
       "      <td>0</td>\n",
       "      <td>0</td>\n",
       "      <td>0</td>\n",
       "      <td>0</td>\n",
       "      <td>0</td>\n",
       "      <td>0</td>\n",
       "      <td>0</td>\n",
       "      <td>0</td>\n",
       "      <td>1</td>\n",
       "    </tr>\n",
       "    <tr>\n",
       "      <th>3</th>\n",
       "      <td>0.000000</td>\n",
       "      <td>0.0</td>\n",
       "      <td>0.0</td>\n",
       "      <td>0.0</td>\n",
       "      <td>0.0</td>\n",
       "      <td>0.0</td>\n",
       "      <td>0.0</td>\n",
       "      <td>0.00000</td>\n",
       "      <td>0.000000</td>\n",
       "      <td>0.198545</td>\n",
       "      <td>...</td>\n",
       "      <td>0</td>\n",
       "      <td>0</td>\n",
       "      <td>0</td>\n",
       "      <td>0</td>\n",
       "      <td>0</td>\n",
       "      <td>0</td>\n",
       "      <td>0</td>\n",
       "      <td>0</td>\n",
       "      <td>0</td>\n",
       "      <td>1</td>\n",
       "    </tr>\n",
       "    <tr>\n",
       "      <th>4</th>\n",
       "      <td>0.145484</td>\n",
       "      <td>0.0</td>\n",
       "      <td>0.0</td>\n",
       "      <td>0.0</td>\n",
       "      <td>0.0</td>\n",
       "      <td>0.0</td>\n",
       "      <td>0.0</td>\n",
       "      <td>0.00000</td>\n",
       "      <td>0.000000</td>\n",
       "      <td>0.000000</td>\n",
       "      <td>...</td>\n",
       "      <td>0</td>\n",
       "      <td>0</td>\n",
       "      <td>1</td>\n",
       "      <td>0</td>\n",
       "      <td>0</td>\n",
       "      <td>0</td>\n",
       "      <td>0</td>\n",
       "      <td>0</td>\n",
       "      <td>0</td>\n",
       "      <td>0</td>\n",
       "    </tr>\n",
       "    <tr>\n",
       "      <th>...</th>\n",
       "      <td>...</td>\n",
       "      <td>...</td>\n",
       "      <td>...</td>\n",
       "      <td>...</td>\n",
       "      <td>...</td>\n",
       "      <td>...</td>\n",
       "      <td>...</td>\n",
       "      <td>...</td>\n",
       "      <td>...</td>\n",
       "      <td>...</td>\n",
       "      <td>...</td>\n",
       "      <td>...</td>\n",
       "      <td>...</td>\n",
       "      <td>...</td>\n",
       "      <td>...</td>\n",
       "      <td>...</td>\n",
       "      <td>...</td>\n",
       "      <td>...</td>\n",
       "      <td>...</td>\n",
       "      <td>...</td>\n",
       "      <td>...</td>\n",
       "    </tr>\n",
       "    <tr>\n",
       "      <th>74995</th>\n",
       "      <td>0.000000</td>\n",
       "      <td>0.0</td>\n",
       "      <td>0.0</td>\n",
       "      <td>0.0</td>\n",
       "      <td>0.0</td>\n",
       "      <td>0.0</td>\n",
       "      <td>0.0</td>\n",
       "      <td>0.00000</td>\n",
       "      <td>0.000000</td>\n",
       "      <td>0.000000</td>\n",
       "      <td>...</td>\n",
       "      <td>0</td>\n",
       "      <td>0</td>\n",
       "      <td>0</td>\n",
       "      <td>0</td>\n",
       "      <td>0</td>\n",
       "      <td>0</td>\n",
       "      <td>0</td>\n",
       "      <td>0</td>\n",
       "      <td>0</td>\n",
       "      <td>0</td>\n",
       "    </tr>\n",
       "    <tr>\n",
       "      <th>74996</th>\n",
       "      <td>0.000000</td>\n",
       "      <td>0.0</td>\n",
       "      <td>0.0</td>\n",
       "      <td>0.0</td>\n",
       "      <td>0.0</td>\n",
       "      <td>0.0</td>\n",
       "      <td>0.0</td>\n",
       "      <td>0.00000</td>\n",
       "      <td>0.000000</td>\n",
       "      <td>0.000000</td>\n",
       "      <td>...</td>\n",
       "      <td>0</td>\n",
       "      <td>0</td>\n",
       "      <td>0</td>\n",
       "      <td>0</td>\n",
       "      <td>0</td>\n",
       "      <td>0</td>\n",
       "      <td>0</td>\n",
       "      <td>0</td>\n",
       "      <td>0</td>\n",
       "      <td>0</td>\n",
       "    </tr>\n",
       "    <tr>\n",
       "      <th>74997</th>\n",
       "      <td>0.000000</td>\n",
       "      <td>0.0</td>\n",
       "      <td>0.0</td>\n",
       "      <td>0.0</td>\n",
       "      <td>0.0</td>\n",
       "      <td>0.0</td>\n",
       "      <td>0.0</td>\n",
       "      <td>0.00000</td>\n",
       "      <td>0.000000</td>\n",
       "      <td>0.000000</td>\n",
       "      <td>...</td>\n",
       "      <td>1</td>\n",
       "      <td>1</td>\n",
       "      <td>1</td>\n",
       "      <td>1</td>\n",
       "      <td>1</td>\n",
       "      <td>1</td>\n",
       "      <td>1</td>\n",
       "      <td>1</td>\n",
       "      <td>1</td>\n",
       "      <td>1</td>\n",
       "    </tr>\n",
       "    <tr>\n",
       "      <th>74998</th>\n",
       "      <td>0.000000</td>\n",
       "      <td>0.0</td>\n",
       "      <td>0.0</td>\n",
       "      <td>0.0</td>\n",
       "      <td>0.0</td>\n",
       "      <td>0.0</td>\n",
       "      <td>0.0</td>\n",
       "      <td>0.00000</td>\n",
       "      <td>0.000000</td>\n",
       "      <td>0.000000</td>\n",
       "      <td>...</td>\n",
       "      <td>1</td>\n",
       "      <td>1</td>\n",
       "      <td>1</td>\n",
       "      <td>1</td>\n",
       "      <td>1</td>\n",
       "      <td>1</td>\n",
       "      <td>1</td>\n",
       "      <td>1</td>\n",
       "      <td>1</td>\n",
       "      <td>1</td>\n",
       "    </tr>\n",
       "    <tr>\n",
       "      <th>74999</th>\n",
       "      <td>0.000000</td>\n",
       "      <td>0.0</td>\n",
       "      <td>0.0</td>\n",
       "      <td>0.0</td>\n",
       "      <td>0.0</td>\n",
       "      <td>0.0</td>\n",
       "      <td>0.0</td>\n",
       "      <td>0.00000</td>\n",
       "      <td>0.000000</td>\n",
       "      <td>0.000000</td>\n",
       "      <td>...</td>\n",
       "      <td>1</td>\n",
       "      <td>1</td>\n",
       "      <td>1</td>\n",
       "      <td>1</td>\n",
       "      <td>1</td>\n",
       "      <td>1</td>\n",
       "      <td>1</td>\n",
       "      <td>1</td>\n",
       "      <td>1</td>\n",
       "      <td>1</td>\n",
       "    </tr>\n",
       "  </tbody>\n",
       "</table>\n",
       "<p>75000 rows × 110 columns</p>\n",
       "</div>"
      ],
      "text/plain": [
       "        tfidf_5  tfidf_6  tfidf_7  tfidf_9  tfidf_11  tfidf_16  tfidf_30  \\\n",
       "0      0.000000      0.0      0.0      0.0       0.0       0.0       0.0   \n",
       "1      0.000000      0.0      0.0      0.0       0.0       0.0       0.0   \n",
       "2      0.000000      0.0      0.0      0.0       0.0       0.0       0.0   \n",
       "3      0.000000      0.0      0.0      0.0       0.0       0.0       0.0   \n",
       "4      0.145484      0.0      0.0      0.0       0.0       0.0       0.0   \n",
       "...         ...      ...      ...      ...       ...       ...       ...   \n",
       "74995  0.000000      0.0      0.0      0.0       0.0       0.0       0.0   \n",
       "74996  0.000000      0.0      0.0      0.0       0.0       0.0       0.0   \n",
       "74997  0.000000      0.0      0.0      0.0       0.0       0.0       0.0   \n",
       "74998  0.000000      0.0      0.0      0.0       0.0       0.0       0.0   \n",
       "74999  0.000000      0.0      0.0      0.0       0.0       0.0       0.0   \n",
       "\n",
       "       tfidf_37  tfidf_39  tfidf_43  ...  diesel  earthy  grape  lemon  mint  \\\n",
       "0       0.14162  0.189796  0.000000  ...       0       0      0      0     0   \n",
       "1       0.00000  0.000000  0.000000  ...       0       0      0      0     0   \n",
       "2       0.00000  0.000000  0.198545  ...       0       0      0      0     0   \n",
       "3       0.00000  0.000000  0.198545  ...       0       0      0      0     0   \n",
       "4       0.00000  0.000000  0.000000  ...       0       0      1      0     0   \n",
       "...         ...       ...       ...  ...     ...     ...    ...    ...   ...   \n",
       "74995   0.00000  0.000000  0.000000  ...       0       0      0      0     0   \n",
       "74996   0.00000  0.000000  0.000000  ...       0       0      0      0     0   \n",
       "74997   0.00000  0.000000  0.000000  ...       1       1      1      1     1   \n",
       "74998   0.00000  0.000000  0.000000  ...       1       1      1      1     1   \n",
       "74999   0.00000  0.000000  0.000000  ...       1       1      1      1     1   \n",
       "\n",
       "       orange  pungent  skunk  strawberry  sweet  \n",
       "0           0        0      0           0      0  \n",
       "1           0        0      0           0      0  \n",
       "2           0        0      0           0      1  \n",
       "3           0        0      0           0      1  \n",
       "4           0        0      0           0      0  \n",
       "...       ...      ...    ...         ...    ...  \n",
       "74995       0        0      0           0      0  \n",
       "74996       0        0      0           0      0  \n",
       "74997       1        1      1           1      1  \n",
       "74998       1        1      1           1      1  \n",
       "74999       1        1      1           1      1  \n",
       "\n",
       "[75000 rows x 110 columns]"
      ]
     },
     "execution_count": 20,
     "metadata": {},
     "output_type": "execute_result"
    }
   ],
   "source": [
    "selected_X = df_knn[selected_features]\n",
    "selected_X"
   ]
  },
  {
   "cell_type": "code",
   "execution_count": 21,
   "metadata": {},
   "outputs": [
    {
     "data": {
      "text/plain": [
       "['tfidf_5',\n",
       " 'tfidf_6',\n",
       " 'tfidf_7',\n",
       " 'tfidf_9',\n",
       " 'tfidf_11',\n",
       " 'tfidf_16',\n",
       " 'tfidf_30',\n",
       " 'tfidf_37',\n",
       " 'tfidf_39',\n",
       " 'tfidf_43',\n",
       " 'tfidf_53',\n",
       " 'tfidf_73',\n",
       " 'tfidf_78',\n",
       " 'tfidf_82',\n",
       " 'tfidf_90',\n",
       " 'tfidf_93',\n",
       " 'tfidf_107',\n",
       " 'tfidf_110',\n",
       " 'tfidf_116',\n",
       " 'tfidf_119',\n",
       " 'tfidf_121',\n",
       " 'tfidf_124',\n",
       " 'tfidf_126',\n",
       " 'tfidf_128',\n",
       " 'tfidf_135',\n",
       " 'tfidf_141',\n",
       " 'tfidf_144',\n",
       " 'tfidf_145',\n",
       " 'tfidf_149',\n",
       " 'tfidf_153',\n",
       " 'tfidf_158',\n",
       " 'tfidf_162',\n",
       " 'tfidf_167',\n",
       " 'tfidf_168',\n",
       " 'tfidf_171',\n",
       " 'tfidf_173',\n",
       " 'tfidf_175',\n",
       " 'tfidf_178',\n",
       " 'tfidf_199',\n",
       " 'tfidf_200',\n",
       " 'tfidf_203',\n",
       " 'tfidf_207',\n",
       " 'tfidf_210',\n",
       " 'tfidf_211',\n",
       " 'tfidf_216',\n",
       " 'tfidf_230',\n",
       " 'tfidf_231',\n",
       " 'tfidf_236',\n",
       " 'tfidf_239',\n",
       " 'tfidf_240',\n",
       " 'tfidf_245',\n",
       " 'tfidf_253',\n",
       " 'tfidf_258',\n",
       " 'tfidf_264',\n",
       " 'tfidf_272',\n",
       " 'tfidf_277',\n",
       " 'tfidf_281',\n",
       " 'tfidf_283',\n",
       " 'tfidf_285',\n",
       " 'tfidf_303',\n",
       " 'tfidf_309',\n",
       " 'tfidf_312',\n",
       " 'tfidf_314',\n",
       " 'tfidf_319',\n",
       " 'tfidf_323',\n",
       " 'tfidf_329',\n",
       " 'tfidf_336',\n",
       " 'tfidf_337',\n",
       " 'tfidf_338',\n",
       " 'tfidf_342',\n",
       " 'tfidf_345',\n",
       " 'tfidf_355',\n",
       " 'tfidf_357',\n",
       " 'tfidf_362',\n",
       " 'tfidf_366',\n",
       " 'tfidf_376',\n",
       " 'tfidf_382',\n",
       " 'hybrid',\n",
       " 'indica',\n",
       " 'sativa',\n",
       " 'creative',\n",
       " 'dry eyes',\n",
       " 'dry mouth',\n",
       " 'energetic',\n",
       " 'euphoric',\n",
       " 'focused',\n",
       " 'giggly',\n",
       " 'happy',\n",
       " 'hungry',\n",
       " 'relaxed',\n",
       " 'sleepy',\n",
       " 'talkative',\n",
       " 'tingly',\n",
       " 'uplifted',\n",
       " 'berry',\n",
       " 'blueberry',\n",
       " 'butter',\n",
       " 'cheese',\n",
       " 'citrus',\n",
       " 'coffee',\n",
       " 'diesel',\n",
       " 'earthy',\n",
       " 'grape',\n",
       " 'lemon',\n",
       " 'mint',\n",
       " 'orange',\n",
       " 'pungent',\n",
       " 'skunk',\n",
       " 'strawberry',\n",
       " 'sweet']"
      ]
     },
     "execution_count": 21,
     "metadata": {},
     "output_type": "execute_result"
    }
   ],
   "source": [
    "selected_X.columns.to_list()"
   ]
  },
  {
   "cell_type": "code",
   "execution_count": 22,
   "metadata": {},
   "outputs": [
    {
     "data": {
      "text/plain": [
       "['selector_knn_tfidf_dlim.pkl']"
      ]
     },
     "execution_count": 22,
     "metadata": {},
     "output_type": "execute_result"
    }
   ],
   "source": [
    "import joblib\n",
    "\n",
    "joblib.dump(selected_X, \"selected_X_knn_tfidf_dlim.pkl\")\n",
    "joblib.dump(selector, \"selector_knn_tfidf_dlim.pkl\")"
   ]
  },
  {
   "attachments": {},
   "cell_type": "markdown",
   "metadata": {},
   "source": [
    "Train test split (after Feature Selection)"
   ]
  },
  {
   "cell_type": "code",
   "execution_count": 23,
   "metadata": {},
   "outputs": [],
   "source": [
    "X_train, X_test, y_train, y_test = train_test_split(selected_X, y, random_state=1, test_size=0.2)"
   ]
  },
  {
   "cell_type": "code",
   "execution_count": 24,
   "metadata": {},
   "outputs": [],
   "source": [
    "X_train1, X_val, y_train1, y_val = train_test_split(X_train, y_train, random_state=1, test_size=0.2)"
   ]
  },
  {
   "cell_type": "code",
   "execution_count": 25,
   "metadata": {},
   "outputs": [],
   "source": [
    "knreg.fit(X_train1, y_train1)\n",
    "y_pred_knreg = knreg.predict(X_val)\n",
    "y_pred_knreg_r2 = knreg.predict(X_train1)"
   ]
  },
  {
   "cell_type": "code",
   "execution_count": 26,
   "metadata": {},
   "outputs": [
    {
     "data": {
      "text/plain": [
       "0.10166514395063449"
      ]
     },
     "execution_count": 26,
     "metadata": {},
     "output_type": "execute_result"
    }
   ],
   "source": [
    "mean_absolute_error(y_val, y_pred_knreg)"
   ]
  },
  {
   "cell_type": "code",
   "execution_count": 27,
   "metadata": {},
   "outputs": [
    {
     "data": {
      "text/plain": [
       "0.02848084135638783"
      ]
     },
     "execution_count": 27,
     "metadata": {},
     "output_type": "execute_result"
    }
   ],
   "source": [
    "mean_squared_error(y_val, y_pred_knreg)"
   ]
  },
  {
   "cell_type": "code",
   "execution_count": 28,
   "metadata": {},
   "outputs": [
    {
     "data": {
      "text/plain": [
       "0.16876267761678773"
      ]
     },
     "execution_count": 28,
     "metadata": {},
     "output_type": "execute_result"
    }
   ],
   "source": [
    "mean_squared_error(y_val, y_pred_knreg, squared = False)"
   ]
  },
  {
   "cell_type": "code",
   "execution_count": 29,
   "metadata": {},
   "outputs": [
    {
     "data": {
      "text/plain": [
       "0.7973898793997419"
      ]
     },
     "execution_count": 29,
     "metadata": {},
     "output_type": "execute_result"
    }
   ],
   "source": [
    "#train\n",
    "r2_score(y_train1, y_pred_knreg_r2)"
   ]
  },
  {
   "cell_type": "code",
   "execution_count": 30,
   "metadata": {},
   "outputs": [
    {
     "data": {
      "text/plain": [
       "0.6619689106236002"
      ]
     },
     "execution_count": 30,
     "metadata": {},
     "output_type": "execute_result"
    }
   ],
   "source": [
    "#val\n",
    "r2_score(y_val, y_pred_knreg)"
   ]
  },
  {
   "attachments": {},
   "cell_type": "markdown",
   "metadata": {},
   "source": [
    "Hyperparameter Tuning"
   ]
  },
  {
   "cell_type": "code",
   "execution_count": 31,
   "metadata": {},
   "outputs": [],
   "source": [
    "parameters_knn = {'n_neighbors' : [5, 7, 9, 11, 13, 15], \n",
    "              'weights': ['uniform', 'distance']}"
   ]
  },
  {
   "cell_type": "code",
   "execution_count": 32,
   "metadata": {},
   "outputs": [],
   "source": [
    "rscv_knn = RandomizedSearchCV(knreg,  \n",
    "                     parameters_knn,   \n",
    "                     cv=5, \n",
    "                     scoring='neg_mean_absolute_error')"
   ]
  },
  {
   "cell_type": "code",
   "execution_count": 33,
   "metadata": {},
   "outputs": [
    {
     "data": {
      "text/html": [
       "<style>#sk-container-id-1 {color: black;background-color: white;}#sk-container-id-1 pre{padding: 0;}#sk-container-id-1 div.sk-toggleable {background-color: white;}#sk-container-id-1 label.sk-toggleable__label {cursor: pointer;display: block;width: 100%;margin-bottom: 0;padding: 0.3em;box-sizing: border-box;text-align: center;}#sk-container-id-1 label.sk-toggleable__label-arrow:before {content: \"▸\";float: left;margin-right: 0.25em;color: #696969;}#sk-container-id-1 label.sk-toggleable__label-arrow:hover:before {color: black;}#sk-container-id-1 div.sk-estimator:hover label.sk-toggleable__label-arrow:before {color: black;}#sk-container-id-1 div.sk-toggleable__content {max-height: 0;max-width: 0;overflow: hidden;text-align: left;background-color: #f0f8ff;}#sk-container-id-1 div.sk-toggleable__content pre {margin: 0.2em;color: black;border-radius: 0.25em;background-color: #f0f8ff;}#sk-container-id-1 input.sk-toggleable__control:checked~div.sk-toggleable__content {max-height: 200px;max-width: 100%;overflow: auto;}#sk-container-id-1 input.sk-toggleable__control:checked~label.sk-toggleable__label-arrow:before {content: \"▾\";}#sk-container-id-1 div.sk-estimator input.sk-toggleable__control:checked~label.sk-toggleable__label {background-color: #d4ebff;}#sk-container-id-1 div.sk-label input.sk-toggleable__control:checked~label.sk-toggleable__label {background-color: #d4ebff;}#sk-container-id-1 input.sk-hidden--visually {border: 0;clip: rect(1px 1px 1px 1px);clip: rect(1px, 1px, 1px, 1px);height: 1px;margin: -1px;overflow: hidden;padding: 0;position: absolute;width: 1px;}#sk-container-id-1 div.sk-estimator {font-family: monospace;background-color: #f0f8ff;border: 1px dotted black;border-radius: 0.25em;box-sizing: border-box;margin-bottom: 0.5em;}#sk-container-id-1 div.sk-estimator:hover {background-color: #d4ebff;}#sk-container-id-1 div.sk-parallel-item::after {content: \"\";width: 100%;border-bottom: 1px solid gray;flex-grow: 1;}#sk-container-id-1 div.sk-label:hover label.sk-toggleable__label {background-color: #d4ebff;}#sk-container-id-1 div.sk-serial::before {content: \"\";position: absolute;border-left: 1px solid gray;box-sizing: border-box;top: 0;bottom: 0;left: 50%;z-index: 0;}#sk-container-id-1 div.sk-serial {display: flex;flex-direction: column;align-items: center;background-color: white;padding-right: 0.2em;padding-left: 0.2em;position: relative;}#sk-container-id-1 div.sk-item {position: relative;z-index: 1;}#sk-container-id-1 div.sk-parallel {display: flex;align-items: stretch;justify-content: center;background-color: white;position: relative;}#sk-container-id-1 div.sk-item::before, #sk-container-id-1 div.sk-parallel-item::before {content: \"\";position: absolute;border-left: 1px solid gray;box-sizing: border-box;top: 0;bottom: 0;left: 50%;z-index: -1;}#sk-container-id-1 div.sk-parallel-item {display: flex;flex-direction: column;z-index: 1;position: relative;background-color: white;}#sk-container-id-1 div.sk-parallel-item:first-child::after {align-self: flex-end;width: 50%;}#sk-container-id-1 div.sk-parallel-item:last-child::after {align-self: flex-start;width: 50%;}#sk-container-id-1 div.sk-parallel-item:only-child::after {width: 0;}#sk-container-id-1 div.sk-dashed-wrapped {border: 1px dashed gray;margin: 0 0.4em 0.5em 0.4em;box-sizing: border-box;padding-bottom: 0.4em;background-color: white;}#sk-container-id-1 div.sk-label label {font-family: monospace;font-weight: bold;display: inline-block;line-height: 1.2em;}#sk-container-id-1 div.sk-label-container {text-align: center;}#sk-container-id-1 div.sk-container {/* jupyter's `normalize.less` sets `[hidden] { display: none; }` but bootstrap.min.css set `[hidden] { display: none !important; }` so we also need the `!important` here to be able to override the default hidden behavior on the sphinx rendered scikit-learn.org. See: https://github.com/scikit-learn/scikit-learn/issues/21755 */display: inline-block !important;position: relative;}#sk-container-id-1 div.sk-text-repr-fallback {display: none;}</style><div id=\"sk-container-id-1\" class=\"sk-top-container\"><div class=\"sk-text-repr-fallback\"><pre>RandomizedSearchCV(cv=5, estimator=KNeighborsRegressor(),\n",
       "                   param_distributions={&#x27;n_neighbors&#x27;: [5, 7, 9, 11, 13, 15],\n",
       "                                        &#x27;weights&#x27;: [&#x27;uniform&#x27;, &#x27;distance&#x27;]},\n",
       "                   scoring=&#x27;neg_mean_absolute_error&#x27;)</pre><b>In a Jupyter environment, please rerun this cell to show the HTML representation or trust the notebook. <br />On GitHub, the HTML representation is unable to render, please try loading this page with nbviewer.org.</b></div><div class=\"sk-container\" hidden><div class=\"sk-item sk-dashed-wrapped\"><div class=\"sk-label-container\"><div class=\"sk-label sk-toggleable\"><input class=\"sk-toggleable__control sk-hidden--visually\" id=\"sk-estimator-id-1\" type=\"checkbox\" ><label for=\"sk-estimator-id-1\" class=\"sk-toggleable__label sk-toggleable__label-arrow\">RandomizedSearchCV</label><div class=\"sk-toggleable__content\"><pre>RandomizedSearchCV(cv=5, estimator=KNeighborsRegressor(),\n",
       "                   param_distributions={&#x27;n_neighbors&#x27;: [5, 7, 9, 11, 13, 15],\n",
       "                                        &#x27;weights&#x27;: [&#x27;uniform&#x27;, &#x27;distance&#x27;]},\n",
       "                   scoring=&#x27;neg_mean_absolute_error&#x27;)</pre></div></div></div><div class=\"sk-parallel\"><div class=\"sk-parallel-item\"><div class=\"sk-item\"><div class=\"sk-label-container\"><div class=\"sk-label sk-toggleable\"><input class=\"sk-toggleable__control sk-hidden--visually\" id=\"sk-estimator-id-2\" type=\"checkbox\" ><label for=\"sk-estimator-id-2\" class=\"sk-toggleable__label sk-toggleable__label-arrow\">estimator: KNeighborsRegressor</label><div class=\"sk-toggleable__content\"><pre>KNeighborsRegressor()</pre></div></div></div><div class=\"sk-serial\"><div class=\"sk-item\"><div class=\"sk-estimator sk-toggleable\"><input class=\"sk-toggleable__control sk-hidden--visually\" id=\"sk-estimator-id-3\" type=\"checkbox\" ><label for=\"sk-estimator-id-3\" class=\"sk-toggleable__label sk-toggleable__label-arrow\">KNeighborsRegressor</label><div class=\"sk-toggleable__content\"><pre>KNeighborsRegressor()</pre></div></div></div></div></div></div></div></div></div></div>"
      ],
      "text/plain": [
       "RandomizedSearchCV(cv=5, estimator=KNeighborsRegressor(),\n",
       "                   param_distributions={'n_neighbors': [5, 7, 9, 11, 13, 15],\n",
       "                                        'weights': ['uniform', 'distance']},\n",
       "                   scoring='neg_mean_absolute_error')"
      ]
     },
     "execution_count": 33,
     "metadata": {},
     "output_type": "execute_result"
    }
   ],
   "source": [
    "rscv_knn.fit(X_train1, y_train1)"
   ]
  },
  {
   "cell_type": "code",
   "execution_count": 34,
   "metadata": {},
   "outputs": [
    {
     "data": {
      "text/plain": [
       "{'weights': 'distance', 'n_neighbors': 5}"
      ]
     },
     "execution_count": 34,
     "metadata": {},
     "output_type": "execute_result"
    }
   ],
   "source": [
    "rscv_knn.best_params_"
   ]
  },
  {
   "attachments": {},
   "cell_type": "markdown",
   "metadata": {},
   "source": [
    "kNN (after hyperparameter tuning)"
   ]
  },
  {
   "cell_type": "code",
   "execution_count": 35,
   "metadata": {},
   "outputs": [],
   "source": [
    "knreg_ht = KNeighborsRegressor(n_neighbors = 5, weights = 'distance')\n",
    "knreg_ht.fit(X_train1, y_train1)\n",
    "y_pred_knreg_ht = knreg_ht.predict(X_val)\n",
    "y_pred_knreg_ht_r2 = knreg_ht.predict(X_train1)"
   ]
  },
  {
   "cell_type": "code",
   "execution_count": 36,
   "metadata": {},
   "outputs": [
    {
     "data": {
      "text/plain": [
       "0.04491710696863599"
      ]
     },
     "execution_count": 36,
     "metadata": {},
     "output_type": "execute_result"
    }
   ],
   "source": [
    "mean_absolute_error(y_val, y_pred_knreg_ht)"
   ]
  },
  {
   "cell_type": "code",
   "execution_count": 37,
   "metadata": {},
   "outputs": [
    {
     "data": {
      "text/plain": [
       "0.015860288282700013"
      ]
     },
     "execution_count": 37,
     "metadata": {},
     "output_type": "execute_result"
    }
   ],
   "source": [
    "mean_squared_error(y_val, y_pred_knreg_ht)"
   ]
  },
  {
   "cell_type": "code",
   "execution_count": 38,
   "metadata": {},
   "outputs": [
    {
     "data": {
      "text/plain": [
       "0.12593763648210973"
      ]
     },
     "execution_count": 38,
     "metadata": {},
     "output_type": "execute_result"
    }
   ],
   "source": [
    "mean_squared_error(y_val, y_pred_knreg_ht, squared = False)"
   ]
  },
  {
   "cell_type": "code",
   "execution_count": 39,
   "metadata": {},
   "outputs": [
    {
     "data": {
      "text/plain": [
       "0.9825339711101667"
      ]
     },
     "execution_count": 39,
     "metadata": {},
     "output_type": "execute_result"
    }
   ],
   "source": [
    "#train\n",
    "r2_score(y_train1, y_pred_knreg_ht_r2)"
   ]
  },
  {
   "cell_type": "code",
   "execution_count": 40,
   "metadata": {},
   "outputs": [
    {
     "data": {
      "text/plain": [
       "0.811758702668298"
      ]
     },
     "execution_count": 40,
     "metadata": {},
     "output_type": "execute_result"
    }
   ],
   "source": [
    "#val\n",
    "r2_score(y_val, y_pred_knreg_ht)"
   ]
  },
  {
   "attachments": {},
   "cell_type": "markdown",
   "metadata": {},
   "source": [
    "Residual plots after Hyperparameter Tuning"
   ]
  },
  {
   "attachments": {},
   "cell_type": "markdown",
   "metadata": {},
   "source": [
    "Predicting model on the test set"
   ]
  },
  {
   "cell_type": "code",
   "execution_count": 41,
   "metadata": {},
   "outputs": [],
   "source": [
    "y_pred_knreg_test = knreg_ht.predict(X_test)"
   ]
  },
  {
   "cell_type": "code",
   "execution_count": 42,
   "metadata": {},
   "outputs": [
    {
     "data": {
      "text/plain": [
       "['y_test_knreg_tfidf_dlim.pkl']"
      ]
     },
     "execution_count": 42,
     "metadata": {},
     "output_type": "execute_result"
    }
   ],
   "source": [
    "joblib.dump(y_pred_knreg_test, \"y_pred_knreg_test_tfidf_dlim.pkl\")\n",
    "joblib.dump(y_test, \"y_test_knreg_tfidf_dlim.pkl\")"
   ]
  },
  {
   "cell_type": "code",
   "execution_count": 43,
   "metadata": {},
   "outputs": [
    {
     "data": {
      "text/plain": [
       "0.04438963656620352"
      ]
     },
     "execution_count": 43,
     "metadata": {},
     "output_type": "execute_result"
    }
   ],
   "source": [
    "mean_absolute_error(y_test, y_pred_knreg_test)"
   ]
  },
  {
   "cell_type": "code",
   "execution_count": 44,
   "metadata": {},
   "outputs": [
    {
     "data": {
      "text/plain": [
       "0.8244133690178217"
      ]
     },
     "execution_count": 44,
     "metadata": {},
     "output_type": "execute_result"
    }
   ],
   "source": [
    "r2_score(y_test, y_pred_knreg_test)"
   ]
  },
  {
   "cell_type": "code",
   "execution_count": 45,
   "metadata": {},
   "outputs": [
    {
     "data": {
      "text/plain": [
       "0.014989957390454197"
      ]
     },
     "execution_count": 45,
     "metadata": {},
     "output_type": "execute_result"
    }
   ],
   "source": [
    "mean_squared_error(y_test, y_pred_knreg_test)"
   ]
  },
  {
   "cell_type": "code",
   "execution_count": 46,
   "metadata": {},
   "outputs": [
    {
     "data": {
      "text/plain": [
       "0.12243348149282612"
      ]
     },
     "execution_count": 46,
     "metadata": {},
     "output_type": "execute_result"
    }
   ],
   "source": [
    "mean_squared_error(y_test, y_pred_knreg_test, squared = False)"
   ]
  },
  {
   "cell_type": "code",
   "execution_count": 47,
   "metadata": {},
   "outputs": [
    {
     "data": {
      "text/html": [
       "<div>\n",
       "<style scoped>\n",
       "    .dataframe tbody tr th:only-of-type {\n",
       "        vertical-align: middle;\n",
       "    }\n",
       "\n",
       "    .dataframe tbody tr th {\n",
       "        vertical-align: top;\n",
       "    }\n",
       "\n",
       "    .dataframe thead th {\n",
       "        text-align: right;\n",
       "    }\n",
       "</style>\n",
       "<table border=\"1\" class=\"dataframe\">\n",
       "  <thead>\n",
       "    <tr style=\"text-align: right;\">\n",
       "      <th></th>\n",
       "      <th>X..D-Limonene</th>\n",
       "    </tr>\n",
       "  </thead>\n",
       "  <tbody>\n",
       "    <tr>\n",
       "      <th>11591</th>\n",
       "      <td>0.367089</td>\n",
       "    </tr>\n",
       "    <tr>\n",
       "      <th>52020</th>\n",
       "      <td>0.626582</td>\n",
       "    </tr>\n",
       "    <tr>\n",
       "      <th>34666</th>\n",
       "      <td>0.354430</td>\n",
       "    </tr>\n",
       "    <tr>\n",
       "      <th>22169</th>\n",
       "      <td>0.139241</td>\n",
       "    </tr>\n",
       "    <tr>\n",
       "      <th>23049</th>\n",
       "      <td>0.267932</td>\n",
       "    </tr>\n",
       "    <tr>\n",
       "      <th>...</th>\n",
       "      <td>...</td>\n",
       "    </tr>\n",
       "    <tr>\n",
       "      <th>60863</th>\n",
       "      <td>0.261603</td>\n",
       "    </tr>\n",
       "    <tr>\n",
       "      <th>32316</th>\n",
       "      <td>0.257384</td>\n",
       "    </tr>\n",
       "    <tr>\n",
       "      <th>60933</th>\n",
       "      <td>0.261603</td>\n",
       "    </tr>\n",
       "    <tr>\n",
       "      <th>43206</th>\n",
       "      <td>0.721519</td>\n",
       "    </tr>\n",
       "    <tr>\n",
       "      <th>58532</th>\n",
       "      <td>0.075949</td>\n",
       "    </tr>\n",
       "  </tbody>\n",
       "</table>\n",
       "<p>15000 rows × 1 columns</p>\n",
       "</div>"
      ],
      "text/plain": [
       "       X..D-Limonene\n",
       "11591       0.367089\n",
       "52020       0.626582\n",
       "34666       0.354430\n",
       "22169       0.139241\n",
       "23049       0.267932\n",
       "...              ...\n",
       "60863       0.261603\n",
       "32316       0.257384\n",
       "60933       0.261603\n",
       "43206       0.721519\n",
       "58532       0.075949\n",
       "\n",
       "[15000 rows x 1 columns]"
      ]
     },
     "execution_count": 47,
     "metadata": {},
     "output_type": "execute_result"
    }
   ],
   "source": [
    "y_test"
   ]
  },
  {
   "cell_type": "code",
   "execution_count": 48,
   "metadata": {},
   "outputs": [
    {
     "data": {
      "text/plain": [
       "numpy.ndarray"
      ]
     },
     "execution_count": 48,
     "metadata": {},
     "output_type": "execute_result"
    }
   ],
   "source": [
    "type(y_pred_knreg_test)"
   ]
  },
  {
   "attachments": {},
   "cell_type": "markdown",
   "metadata": {},
   "source": [
    "Error analysis"
   ]
  },
  {
   "cell_type": "code",
   "execution_count": 49,
   "metadata": {},
   "outputs": [
    {
     "data": {
      "image/png": "[encoded data removed]",
      "text/plain": [
       "<Figure size 576x432 with 1 Axes>"
      ]
     },
     "metadata": {
      "needs_background": "light"
     },
     "output_type": "display_data"
    },
    {
     "data": {
      "text/plain": [
       "<Figure size 432x288 with 0 Axes>"
      ]
     },
     "metadata": {},
     "output_type": "display_data"
    }
   ],
   "source": [
    "# assume y_pred is a numpy array and y_true is a pandas dataframe\n",
    "fig, ax = plt.subplots(figsize=(8, 6))\n",
    "\n",
    "column = \"X..D-Limonene\"  # specify the target variable name\n",
    "ax.hist(y_pred_knreg_test, alpha=0.5, label='y_pred', bins=20)\n",
    "ax.hist(y_test[column], alpha=0.5, label='y_true', bins=20)\n",
    "ax.legend(loc='upper right')\n",
    "ax.set_title(column)\n",
    "\n",
    "plt.show()\n",
    "plt.savefig('error_hist_knn_tfidf_dlim.png')"
   ]
  },
  {
   "attachments": {},
   "cell_type": "markdown",
   "metadata": {},
   "source": [
    "Pearson R"
   ]
  },
  {
   "cell_type": "code",
   "execution_count": 50,
   "metadata": {},
   "outputs": [
    {
     "name": "stdout",
     "output_type": "stream",
     "text": [
      "Pearson correlation coefficient: 0.912\n",
      "P-value: 0.000\n"
     ]
    }
   ],
   "source": [
    "corr_coef, p_value = pearsonr(y_pred_knreg_test.flatten(), y_test.values.ravel())\n",
    "\n",
    "print(f\"Pearson correlation coefficient: {corr_coef:.3f}\")\n",
    "print(f\"P-value: {p_value:.3f}\")"
   ]
  },
  {
   "cell_type": "code",
   "execution_count": 51,
   "metadata": {},
   "outputs": [
    {
     "data": {
      "text/plain": [
       "<AxesSubplot:>"
      ]
     },
     "execution_count": 51,
     "metadata": {},
     "output_type": "execute_result"
    },
    {
     "data": {
      "image/png": "[encoded data removed]",
      "text/plain": [
       "<Figure size 432x288 with 2 Axes>"
      ]
     },
     "metadata": {
      "needs_background": "light"
     },
     "output_type": "display_data"
    }
   ],
   "source": [
    "corr_matrix = y_test.corr()\n",
    "sns.heatmap(corr_matrix, annot=True, cmap='coolwarm', center=0)"
   ]
  }
 ],
 "metadata": {
  "kernelspec": {
   "display_name": "base",
   "language": "python",
   "name": "python3"
  },
  "language_info": {
   "codemirror_mode": {
    "name": "ipython",
    "version": 3
   },
   "file_extension": ".py",
   "mimetype": "text/x-python",
   "name": "python",
   "nbconvert_exporter": "python",
   "pygments_lexer": "ipython3",
   "version": "3.9.7"
  },
  "orig_nbformat": 4
 },
 "nbformat": 4,
 "nbformat_minor": 2
}
